{
  "nbformat": 4,
  "nbformat_minor": 0,
  "metadata": {
    "colab": {
      "name": " Sporty-Guru-Hiring-assignment.ipynb",
      "provenance": []
    },
    "kernelspec": {
      "name": "python3",
      "display_name": "Python 3"
    },
    "language_info": {
      "name": "python"
    },
    "accelerator": "GPU"
  },
  "cells": [
    {
      "cell_type": "code",
      "metadata": {
        "id": "PcHwLSqk2_W4"
      },
      "source": [
        "import numpy as np\n",
        "import pandas as pd\n",
        "import tensorflow as tf\n",
        "import keras\n",
        "import matplotlib.pyplot as plt\n",
        "from tensorflow.keras.models import Model\n",
        "from tensorflow.keras.layers import Input, Dense,Flatten,Conv2D,MaxPooling2D"
      ],
      "execution_count": 3,
      "outputs": []
    },
    {
      "cell_type": "code",
      "metadata": {
        "colab": {
          "base_uri": "https://localhost:8080/"
        },
        "id": "1BWERnz-22A3",
        "outputId": "5d6e2ba4-34d1-4fc1-94e7-15625969917d"
      },
      "source": [
        "(x_train, y_train), (x_test, y_test) = tf.keras.datasets.cifar10.load_data()"
      ],
      "execution_count": 4,
      "outputs": [
        {
          "output_type": "stream",
          "name": "stdout",
          "text": [
            "Downloading data from https://www.cs.toronto.edu/~kriz/cifar-10-python.tar.gz\n",
            "170500096/170498071 [==============================] - 2s 0us/step\n",
            "170508288/170498071 [==============================] - 2s 0us/step\n"
          ]
        }
      ]
    },
    {
      "cell_type": "code",
      "metadata": {
        "id": "cVNTQOrn4Vnc"
      },
      "source": [
        "y_train1 = []\n",
        "for i in range(len(y_train)):\n",
        "  lst1 = [0 for i in range(10)]\n",
        "  lst1[y_train[i][0]] = 1\n",
        "  y_train1.append(lst1)"
      ],
      "execution_count": 5,
      "outputs": []
    },
    {
      "cell_type": "code",
      "metadata": {
        "colab": {
          "base_uri": "https://localhost:8080/"
        },
        "id": "_Eg4gwqX-Eel",
        "outputId": "342df980-f7c5-412b-f79e-63428ce1fcc1"
      },
      "source": [
        "y_train1 = np.array(y_train1)\n",
        "y_train1.shape"
      ],
      "execution_count": 6,
      "outputs": [
        {
          "output_type": "execute_result",
          "data": {
            "text/plain": [
              "(50000, 10)"
            ]
          },
          "metadata": {},
          "execution_count": 6
        }
      ]
    },
    {
      "cell_type": "code",
      "metadata": {
        "colab": {
          "base_uri": "https://localhost:8080/"
        },
        "id": "OEmV6BYz-MiC",
        "outputId": "e7bf9a68-63fa-422b-d179-21bbc17e692b"
      },
      "source": [
        "y_test1 = []\n",
        "for i in range(len(y_test)):\n",
        "  lst1 = [0 for i in range(10)]\n",
        "  lst1[y_test[i][0]] = 1\n",
        "  y_test1.append(lst1)\n",
        "y_test1 = np.array(y_test1)\n",
        "y_test1.shape"
      ],
      "execution_count": 7,
      "outputs": [
        {
          "output_type": "execute_result",
          "data": {
            "text/plain": [
              "(10000, 10)"
            ]
          },
          "metadata": {},
          "execution_count": 7
        }
      ]
    },
    {
      "cell_type": "code",
      "metadata": {
        "id": "18BAX5WbGpXm"
      },
      "source": [
        "def plot_histories(history):\n",
        "  plt.plot(history.history['accuracy'])\n",
        "  plt.plot(history.history['val_accuracy'])\n",
        "  plt.ylabel('accuracy')\n",
        "  plt.xlabel('epoch')\n",
        "  plt.legend(['train', 'test'], loc='upper left')\n",
        "  plt.show()"
      ],
      "execution_count": 13,
      "outputs": []
    },
    {
      "cell_type": "code",
      "metadata": {
        "id": "Se5iqtda4jlB"
      },
      "source": [
        "def NetA(x_train,y_train1,x_test,y_test1,epochs):\n",
        "    inputs =  Input(shape = (32,32,3))\n",
        "    x = Flatten()(inputs)\n",
        "    output = Dense(10,activation = 'linear')(x)\n",
        "    model = Model(inputs = inputs,outputs = output)\n",
        "    model.compile(optimizer='Adam',loss='categorical_crossentropy',metrics=['accuracy'])\n",
        "    history = model.fit(x_train, y_train1,batch_size= 64,epochs= epochs,validation_data=(x_test,y_test1),verbose = 0)\n",
        "    return history"
      ],
      "execution_count": 9,
      "outputs": []
    },
    {
      "cell_type": "code",
      "metadata": {
        "id": "h3Y1wDnX6uHI"
      },
      "source": [
        "def NetB(x_train,y_train1,x_test,y_test1,epochs):\n",
        "  inputs =  Input(shape = (32,32,3))\n",
        "  x = Flatten()(inputs)\n",
        "  x = Dense(300,activation = 'relu')(x)\n",
        "  output = Dense(10,activation = 'linear')(x)\n",
        "  model1 = Model(inputs = inputs,outputs = output)\n",
        "  model1.compile(optimizer='Adam',loss='categorical_crossentropy',metrics=['accuracy'])\n",
        "  history = model1.fit(x_train, y_train1,batch_size= 64,epochs= epochs,validation_data=(x_test,y_test1),verbose = 0)\n",
        "  return history"
      ],
      "execution_count": 11,
      "outputs": []
    },
    {
      "cell_type": "code",
      "metadata": {
        "id": "oZ28B0Zq-jh7"
      },
      "source": [
        "def NetC(x_train,y_train1,x_test,y_test1,epochs):\n",
        "  inputs =  Input(shape = (32,32,3))\n",
        "  x = Conv2D(25,5,activation = 'relu')(inputs)\n",
        "  x = MaxPooling2D((2,2),strides = 2)(x)\n",
        "  x = Flatten()(x)\n",
        "  output = Dense(10,activation = 'linear')(x)\n",
        "  model2 = Model(inputs = inputs,outputs = output)\n",
        "  model2.compile(optimizer='Adam',loss='categorical_crossentropy',metrics=['accuracy'])\n",
        "  history = model2.fit(x_train, y_train1,batch_size= 64,epochs= 50,validation_data=(x_test,y_test1),verbose = 0)\n",
        "  return history"
      ],
      "execution_count": 17,
      "outputs": []
    },
    {
      "cell_type": "code",
      "metadata": {
        "colab": {
          "base_uri": "https://localhost:8080/",
          "height": 1000
        },
        "id": "ou_S-TgBDkox",
        "outputId": "0a8cf6b3-9c8b-44bd-9c5f-79983595fc10"
      },
      "source": [
        "history = NetA(x_train,y_train1,x_test,y_test1,50)\n",
        "plot_histories(history)\n",
        "history1 = NetB(x_train,y_train1,x_test,y_test1,50)\n",
        "plot_histories(history1)\n",
        "history2 = NetC(x_train,y_train1,x_test,y_test1,50)\n",
        "plot_histories(history2)"
      ],
      "execution_count": 16,
      "outputs": [
        {
          "output_type": "display_data",
          "data": {
            "image/png": "[encoded data removed]",
            "text/plain": [
              "<Figure size 432x288 with 1 Axes>"
            ]
          },
          "metadata": {
            "needs_background": "light"
          }
        },
        {
          "output_type": "display_data",
          "data": {
            "image/png": "[encoded data removed]",
            "text/plain": [
              "<Figure size 432x288 with 1 Axes>"
            ]
          },
          "metadata": {
            "needs_background": "light"
          }
        },
        {
          "output_type": "stream",
          "name": "stdout",
          "text": [
            "Epoch 1/50\n",
            "782/782 [==============================] - 32s 7ms/step - loss: 3.3962 - accuracy: 0.1369 - val_loss: 11.2724 - val_accuracy: 0.1003\n",
            "Epoch 2/50\n",
            "782/782 [==============================] - 5s 6ms/step - loss: 9.8041 - accuracy: 0.1024 - val_loss: 9.6472 - val_accuracy: 0.1032\n",
            "Epoch 3/50\n",
            "782/782 [==============================] - 5s 6ms/step - loss: 9.5265 - accuracy: 0.1051 - val_loss: 9.4468 - val_accuracy: 0.1210\n",
            "Epoch 4/50\n",
            "782/782 [==============================] - 5s 6ms/step - loss: 9.2186 - accuracy: 0.1193 - val_loss: 8.7473 - val_accuracy: 0.1199\n",
            "Epoch 5/50\n",
            "782/782 [==============================] - 5s 6ms/step - loss: 8.7853 - accuracy: 0.1189 - val_loss: 8.4781 - val_accuracy: 0.1199\n",
            "Epoch 6/50\n",
            "782/782 [==============================] - 5s 6ms/step - loss: 9.0593 - accuracy: 0.1192 - val_loss: 9.0068 - val_accuracy: 0.1205\n",
            "Epoch 7/50\n",
            "782/782 [==============================] - 5s 6ms/step - loss: 9.2144 - accuracy: 0.1193 - val_loss: 9.0068 - val_accuracy: 0.1205\n",
            "Epoch 8/50\n",
            "782/782 [==============================] - 5s 6ms/step - loss: 9.2144 - accuracy: 0.1193 - val_loss: 9.0068 - val_accuracy: 0.1205\n",
            "Epoch 9/50\n",
            "782/782 [==============================] - 5s 6ms/step - loss: 9.2144 - accuracy: 0.1193 - val_loss: 9.0068 - val_accuracy: 0.1205\n",
            "Epoch 10/50\n",
            "782/782 [==============================] - 5s 6ms/step - loss: 9.2144 - accuracy: 0.1193 - val_loss: 9.0068 - val_accuracy: 0.1205\n",
            "Epoch 11/50\n",
            "782/782 [==============================] - 5s 6ms/step - loss: 9.2144 - accuracy: 0.1193 - val_loss: 9.0068 - val_accuracy: 0.1205\n",
            "Epoch 12/50\n",
            "782/782 [==============================] - 5s 6ms/step - loss: 9.2144 - accuracy: 0.1193 - val_loss: 9.0068 - val_accuracy: 0.1205\n",
            "Epoch 13/50\n",
            "782/782 [==============================] - 5s 6ms/step - loss: 9.2144 - accuracy: 0.1193 - val_loss: 9.0068 - val_accuracy: 0.1205\n",
            "Epoch 14/50\n",
            "782/782 [==============================] - 5s 6ms/step - loss: 9.2144 - accuracy: 0.1193 - val_loss: 9.0068 - val_accuracy: 0.1205\n",
            "Epoch 15/50\n",
            "782/782 [==============================] - 5s 6ms/step - loss: 9.2144 - accuracy: 0.1193 - val_loss: 9.0068 - val_accuracy: 0.1205\n",
            "Epoch 16/50\n",
            "782/782 [==============================] - 5s 6ms/step - loss: 9.2144 - accuracy: 0.1193 - val_loss: 9.0068 - val_accuracy: 0.1205\n",
            "Epoch 17/50\n",
            "782/782 [==============================] - 5s 6ms/step - loss: 9.2144 - accuracy: 0.1193 - val_loss: 9.0068 - val_accuracy: 0.1205\n",
            "Epoch 18/50\n",
            "782/782 [==============================] - 5s 6ms/step - loss: 9.2144 - accuracy: 0.1193 - val_loss: 9.0068 - val_accuracy: 0.1205\n",
            "Epoch 19/50\n",
            "782/782 [==============================] - 5s 6ms/step - loss: 9.2144 - accuracy: 0.1193 - val_loss: 9.0068 - val_accuracy: 0.1205\n",
            "Epoch 20/50\n",
            "782/782 [==============================] - 5s 7ms/step - loss: 9.2144 - accuracy: 0.1193 - val_loss: 9.0068 - val_accuracy: 0.1205\n",
            "Epoch 21/50\n",
            "782/782 [==============================] - 5s 6ms/step - loss: 9.2144 - accuracy: 0.1193 - val_loss: 9.0068 - val_accuracy: 0.1205\n",
            "Epoch 22/50\n",
            "782/782 [==============================] - 5s 6ms/step - loss: 9.2144 - accuracy: 0.1193 - val_loss: 9.0068 - val_accuracy: 0.1205\n",
            "Epoch 23/50\n",
            "782/782 [==============================] - 5s 6ms/step - loss: 9.2144 - accuracy: 0.1193 - val_loss: 9.0068 - val_accuracy: 0.1205\n",
            "Epoch 24/50\n",
            "782/782 [==============================] - 5s 6ms/step - loss: 9.2144 - accuracy: 0.1193 - val_loss: 9.0068 - val_accuracy: 0.1205\n",
            "Epoch 25/50\n",
            "782/782 [==============================] - 5s 6ms/step - loss: 9.2144 - accuracy: 0.1193 - val_loss: 9.0068 - val_accuracy: 0.1205\n",
            "Epoch 26/50\n",
            "782/782 [==============================] - 5s 6ms/step - loss: 9.2144 - accuracy: 0.1193 - val_loss: 9.0068 - val_accuracy: 0.1205\n",
            "Epoch 27/50\n",
            "782/782 [==============================] - 5s 6ms/step - loss: 9.2144 - accuracy: 0.1193 - val_loss: 9.0068 - val_accuracy: 0.1205\n",
            "Epoch 28/50\n",
            "782/782 [==============================] - 5s 6ms/step - loss: 9.2144 - accuracy: 0.1193 - val_loss: 9.0068 - val_accuracy: 0.1205\n",
            "Epoch 29/50\n",
            "782/782 [==============================] - 5s 6ms/step - loss: 9.2144 - accuracy: 0.1193 - val_loss: 9.0068 - val_accuracy: 0.1205\n",
            "Epoch 30/50\n",
            "782/782 [==============================] - 5s 6ms/step - loss: 9.2144 - accuracy: 0.1193 - val_loss: 9.0068 - val_accuracy: 0.1205\n",
            "Epoch 31/50\n",
            "782/782 [==============================] - 5s 7ms/step - loss: 9.2144 - accuracy: 0.1193 - val_loss: 9.0068 - val_accuracy: 0.1205\n",
            "Epoch 32/50\n",
            "782/782 [==============================] - 5s 7ms/step - loss: 9.2144 - accuracy: 0.1193 - val_loss: 9.0068 - val_accuracy: 0.1205\n",
            "Epoch 33/50\n",
            "782/782 [==============================] - 5s 7ms/step - loss: 9.2144 - accuracy: 0.1193 - val_loss: 9.0068 - val_accuracy: 0.1205\n",
            "Epoch 34/50\n",
            "782/782 [==============================] - 5s 6ms/step - loss: 9.2144 - accuracy: 0.1193 - val_loss: 9.0068 - val_accuracy: 0.1205\n",
            "Epoch 35/50\n",
            "782/782 [==============================] - 5s 6ms/step - loss: 9.2144 - accuracy: 0.1193 - val_loss: 9.0068 - val_accuracy: 0.1205\n",
            "Epoch 36/50\n",
            "782/782 [==============================] - 5s 6ms/step - loss: 9.2144 - accuracy: 0.1193 - val_loss: 9.0068 - val_accuracy: 0.1205\n",
            "Epoch 37/50\n",
            "782/782 [==============================] - 5s 6ms/step - loss: 9.2144 - accuracy: 0.1193 - val_loss: 9.0068 - val_accuracy: 0.1205\n",
            "Epoch 38/50\n",
            "782/782 [==============================] - 5s 6ms/step - loss: 9.2144 - accuracy: 0.1193 - val_loss: 9.0068 - val_accuracy: 0.1205\n",
            "Epoch 39/50\n",
            "782/782 [==============================] - 5s 6ms/step - loss: 9.2144 - accuracy: 0.1193 - val_loss: 9.0068 - val_accuracy: 0.1205\n",
            "Epoch 40/50\n",
            "782/782 [==============================] - 5s 6ms/step - loss: 9.2144 - accuracy: 0.1193 - val_loss: 9.0068 - val_accuracy: 0.1205\n",
            "Epoch 41/50\n",
            "782/782 [==============================] - 5s 6ms/step - loss: 9.2144 - accuracy: 0.1193 - val_loss: 9.0068 - val_accuracy: 0.1205\n",
            "Epoch 42/50\n",
            "782/782 [==============================] - 5s 6ms/step - loss: 9.2144 - accuracy: 0.1193 - val_loss: 9.0068 - val_accuracy: 0.1205\n",
            "Epoch 43/50\n",
            "782/782 [==============================] - 5s 6ms/step - loss: 9.2144 - accuracy: 0.1193 - val_loss: 9.0068 - val_accuracy: 0.1205\n",
            "Epoch 44/50\n",
            "782/782 [==============================] - 5s 6ms/step - loss: 9.2144 - accuracy: 0.1193 - val_loss: 9.0068 - val_accuracy: 0.1205\n",
            "Epoch 45/50\n",
            "782/782 [==============================] - 5s 6ms/step - loss: 9.2144 - accuracy: 0.1193 - val_loss: 9.0068 - val_accuracy: 0.1205\n",
            "Epoch 46/50\n",
            "782/782 [==============================] - 5s 6ms/step - loss: 9.2144 - accuracy: 0.1193 - val_loss: 9.0068 - val_accuracy: 0.1205\n",
            "Epoch 47/50\n",
            "782/782 [==============================] - 5s 6ms/step - loss: 9.2144 - accuracy: 0.1193 - val_loss: 9.0068 - val_accuracy: 0.1205\n",
            "Epoch 48/50\n",
            "782/782 [==============================] - 5s 6ms/step - loss: 9.2144 - accuracy: 0.1193 - val_loss: 9.0068 - val_accuracy: 0.1205\n",
            "Epoch 49/50\n",
            "782/782 [==============================] - 5s 6ms/step - loss: 9.2144 - accuracy: 0.1193 - val_loss: 9.0068 - val_accuracy: 0.1205\n",
            "Epoch 50/50\n",
            "782/782 [==============================] - 5s 6ms/step - loss: 9.2144 - accuracy: 0.1193 - val_loss: 9.0068 - val_accuracy: 0.1205\n"
          ]
        },
        {
          "output_type": "display_data",
          "data": {
            "image/png": "[encoded data removed]",
            "text/plain": [
              "<Figure size 432x288 with 1 Axes>"
            ]
          },
          "metadata": {
            "needs_background": "light"
          }
        }
      ]
    }
  ]
}